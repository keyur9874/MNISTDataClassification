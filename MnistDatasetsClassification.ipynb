{
  "nbformat": 4,
  "nbformat_minor": 0,
  "metadata": {
    "accelerator": "GPU",
    "colab": {
      "name": "MnistDatasetsClassification.ipynb",
      "provenance": [],
      "collapsed_sections": [],
      "toc_visible": true
    },
    "kernelspec": {
      "display_name": "Python 3",
      "name": "python3"
    },
    "language_info": {
      "name": "python"
    }
  },
  "cells": [
    {
      "cell_type": "markdown",
      "metadata": {
        "id": "jWusLAErcZFi"
      },
      "source": [
        "# **Mounting Drive**"
      ]
    },
    {
      "cell_type": "code",
      "metadata": {
        "colab": {
          "base_uri": "https://localhost:8080/"
        },
        "id": "-yfz-Uk5cXIV",
        "outputId": "cca044e4-5148-4e82-d234-e5c21fe813e4"
      },
      "source": [
        "from google.colab import drive\n",
        "drive.mount('/content/drive')"
      ],
      "execution_count": 1,
      "outputs": [
        {
          "output_type": "stream",
          "text": [
            "Drive already mounted at /content/drive; to attempt to forcibly remount, call drive.mount(\"/content/drive\", force_remount=True).\n"
          ],
          "name": "stdout"
        }
      ]
    },
    {
      "cell_type": "markdown",
      "metadata": {
        "id": "zzdKNLEycjMI"
      },
      "source": [
        "# Tensorflow and Other Library Adding "
      ]
    },
    {
      "cell_type": "code",
      "metadata": {
        "id": "98GrCk7wcLer"
      },
      "source": [
        "import tensorflow as tf\n",
        "from tensorflow import keras\n",
        "from tensorflow.keras import Sequential\n",
        "from tensorflow.keras import layers\n",
        "from tensorflow.keras.datasets import mnist\n",
        "from tensorflow.keras import regularizers\n",
        "import numpy as np\n",
        "import pandas as pd"
      ],
      "execution_count": 2,
      "outputs": []
    },
    {
      "cell_type": "markdown",
      "metadata": {
        "id": "9rDKtUSLd2e8"
      },
      "source": [
        "# Load Datasets"
      ]
    },
    {
      "cell_type": "code",
      "metadata": {
        "id": "P74iUYXud404",
        "colab": {
          "base_uri": "https://localhost:8080/"
        },
        "outputId": "f75a2923-bf0f-4817-c88a-ad2f24c27c82"
      },
      "source": [
        "(X_train,y_train),(X_test,y_test) = mnist.load_data()"
      ],
      "execution_count": 3,
      "outputs": [
        {
          "output_type": "stream",
          "text": [
            "Downloading data from https://storage.googleapis.com/tensorflow/tf-keras-datasets/mnist.npz\n",
            "11493376/11490434 [==============================] - 0s 0us/step\n"
          ],
          "name": "stdout"
        }
      ]
    },
    {
      "cell_type": "code",
      "metadata": {
        "id": "WJ6WWBs0eNHW"
      },
      "source": [
        "X_train = X_train.astype('float32') / 255.0\n",
        "X_test = X_test.astype('float32') / 255.0"
      ],
      "execution_count": 4,
      "outputs": []
    },
    {
      "cell_type": "code",
      "metadata": {
        "id": "BBgOa8vlgyzd"
      },
      "source": [
        "X_train = X_train.reshape(-1,28,28,1)\n",
        "X_test = X_test.reshape(-1,28,28,1)"
      ],
      "execution_count": 5,
      "outputs": []
    },
    {
      "cell_type": "code",
      "metadata": {
        "colab": {
          "base_uri": "https://localhost:8080/"
        },
        "id": "hnuH8KJCe2OW",
        "outputId": "05c15f2a-20e4-462f-d8ff-0b252ff4a3dc"
      },
      "source": [
        "print('X_train Shape : ' + str(X_train.shape))\n",
        "print('y_train Shape : '+ str(y_train.shape))\n",
        "print('X_test Shape : '+str(X_test.shape))\n",
        "print('y_test Shape : '+str(y_test.shape))"
      ],
      "execution_count": 6,
      "outputs": [
        {
          "output_type": "stream",
          "text": [
            "X_train Shape : (60000, 28, 28, 1)\n",
            "y_train Shape : (60000,)\n",
            "X_test Shape : (10000, 28, 28, 1)\n",
            "y_test Shape : (10000,)\n"
          ],
          "name": "stdout"
        }
      ]
    },
    {
      "cell_type": "markdown",
      "metadata": {
        "id": "1t1DUNGSdtFo"
      },
      "source": [
        "# Creating a Model"
      ]
    },
    {
      "cell_type": "code",
      "metadata": {
        "id": "pFxVS1FGdqcm"
      },
      "source": [
        "# Cancle this model\n",
        "\n",
        "def my_model1():\n",
        "  inputs = keras.Input(shape = (28,28,1))\n",
        "  x = layers.Conv2D(2,3,padding = 'same',kernel_regularizer=regularizers.l2(0.01))(inputs)\n",
        "  #x = layers.MaxPooling2D(pool_size=(2,2))(x)\n",
        "  x = keras.activations.relu(x)\n",
        "  x = layers.Conv2D(8,3,padding = 'same',kernel_regularizer = regularizers.l2(0.01))(x)\n",
        "  x = keras.activations.relu(x)\n",
        "  x = layers.MaxPooling2D(pool_size=(2,2))(x)\n",
        "  x = layers.Conv2D(16,3,padding = 'same',kernel_regularizer = regularizers.l2(0.01))(x)\n",
        "  x = keras.activations.relu(x)\n",
        "  x = layers.MaxPooling2D(pool_size=(2,2))(x)\n",
        "  x = layers.Dropout(0.2)(x)\n",
        "  x = layers.Conv2D(32,3)(x)      \n",
        "  x = keras.activations.relu(x)\n",
        "  x = layers.MaxPooling2D(pool_size=(2,2))(x)\n",
        "  #x = layers.Conv2D(64,3,kernel_regularizer=regularizers.l2(0.01))(x)\n",
        "  #x = keras.activations.relu(x)\n",
        "  x = layers.Flatten()(x)\n",
        "  x = layers.Dense(80,activation='relu',kernel_regularizer=regularizers.l2(0.001))(x)\n",
        "  #x = layers.Dropout(0.2)(x)\n",
        "  x = layers.Dense(64,activation='relu',kernel_regularizer=regularizers.l2(0.001))(x)\n",
        "  #x = layers.Dropout(0.2)(x)\n",
        "  x = layers.Dense(32,activation='relu',kernel_regularizer=regularizers.l2(0.001))(x)\n",
        "  outputs = layers.Dense(10)(x)\n",
        "  model = keras.Model(inputs=inputs,outputs=outputs)\n",
        "  return model\n",
        "\n"
      ],
      "execution_count": 7,
      "outputs": []
    },
    {
      "cell_type": "code",
      "metadata": {
        "id": "PJDseNr_9ir_"
      },
      "source": [
        "# cancle this model \n",
        "\n",
        "def my_model2():\n",
        "    inputs = keras.Input(shape=(28,28,1))\n",
        "    x = layers.Conv2D(2,3,padding='same',kernel_regularizer = regularizers.l2(0.01),activation='relu')(inputs)\n",
        "    x = layers.Conv2D(8,3,padding='same',kernel_regularizer = regularizers.l2(0.01),activation='relu')(x)\n",
        "    x = layers.MaxPooling2D(pool_size = (2,2))(x)\n",
        "    x = layers.Conv2D(16,3,padding='same',kernel_regularizer=regularizers.l2(0.01),activation='relu')(x)\n",
        "    x = layers.MaxPooling2D(pool_size=(2,2))(x)\n",
        "    x = layers.Dropout(0.2)(x)\n",
        "    x = layers.Conv2D(32,3,activation='relu')(x)\n",
        "    x = layers.MaxPooling2D(pool_size=(2,2))(x)\n",
        "    \n",
        "    x = layers.Flatten()(x)\n",
        "    #x = layers.Dense(80,activation='relu',kernel_regularizer=regularizers.l2(0.001))(x)\n",
        "    #x = layers.Dense(64,activation='relu',kernel_regularizer=regularizers.l2(0.001))(x)\n",
        "    #x = layers.Dense(32,activation='relu',kernel_regularizer=regularizers.l2(0.001))(x)\n",
        "    outputs = layers.Dense(10)(x)\n",
        "    \n",
        "    model = keras.Model(inputs=inputs,outputs=outputs)\n",
        "    \n",
        "    return model\n",
        "\n",
        "    \n",
        "    "
      ],
      "execution_count": 8,
      "outputs": []
    },
    {
      "cell_type": "code",
      "metadata": {
        "id": "68gHxWexBBfc"
      },
      "source": [
        "def my_model():\n",
        "    inputs = keras.Input(shape=(28,28,1))\n",
        "    x = layers.Conv2D(32,7,padding='same',activation='relu')(inputs)\n",
        "    x = layers.MaxPooling2D(pool_size = (2,2))(x)\n",
        "    x = layers.Conv2D(64,5,padding='same',activation='relu')(x)\n",
        "    x = layers.MaxPooling2D(pool_size = (2,2))(x)\n",
        "    x = layers.Conv2D(128,3,padding='same',activation='relu')(x)\n",
        "    x = layers.MaxPooling2D(pool_size=(2,2))(x)\n",
        "    #x = layers.Conv2D(64,3,padding='same',activation='relu')(x)\n",
        "    #x = layers.MaxPooling2D(pool_size=(2,2))(x)\n",
        "    \n",
        "    x = layers.Flatten()(x)\n",
        "    #x = layers.Dense(256,activation='relu',kernel_regularizer=regularizers.l2(0.1))(x)\n",
        "    #x = layers.Dense(128,activation='relu',kernel_regularizer=regularizers.l2(0.1))(x)\n",
        "    x = layers.Dense(64,activation='relu')(x)\n",
        "    x = layers.Dropout(0.2)(x)\n",
        "    outputs = layers.Dense(10)(x)\n",
        "    \n",
        "    model = keras.Model(inputs=inputs,outputs=outputs)\n",
        "    \n",
        "    return model"
      ],
      "execution_count": 9,
      "outputs": []
    },
    {
      "cell_type": "code",
      "metadata": {
        "id": "LanwcdaclXUP"
      },
      "source": [
        "model = my_model()"
      ],
      "execution_count": 10,
      "outputs": []
    },
    {
      "cell_type": "code",
      "metadata": {
        "colab": {
          "base_uri": "https://localhost:8080/"
        },
        "id": "fHmtrIyqpndk",
        "outputId": "e809e6c0-0eca-48bf-c406-f8e4dded6fb3"
      },
      "source": [
        "model.summary()"
      ],
      "execution_count": 11,
      "outputs": [
        {
          "output_type": "stream",
          "text": [
            "Model: \"model\"\n",
            "_________________________________________________________________\n",
            "Layer (type)                 Output Shape              Param #   \n",
            "=================================================================\n",
            "input_1 (InputLayer)         [(None, 28, 28, 1)]       0         \n",
            "_________________________________________________________________\n",
            "conv2d (Conv2D)              (None, 28, 28, 32)        1600      \n",
            "_________________________________________________________________\n",
            "max_pooling2d (MaxPooling2D) (None, 14, 14, 32)        0         \n",
            "_________________________________________________________________\n",
            "conv2d_1 (Conv2D)            (None, 14, 14, 64)        51264     \n",
            "_________________________________________________________________\n",
            "max_pooling2d_1 (MaxPooling2 (None, 7, 7, 64)          0         \n",
            "_________________________________________________________________\n",
            "conv2d_2 (Conv2D)            (None, 7, 7, 128)         73856     \n",
            "_________________________________________________________________\n",
            "max_pooling2d_2 (MaxPooling2 (None, 3, 3, 128)         0         \n",
            "_________________________________________________________________\n",
            "flatten (Flatten)            (None, 1152)              0         \n",
            "_________________________________________________________________\n",
            "dense (Dense)                (None, 64)                73792     \n",
            "_________________________________________________________________\n",
            "dropout (Dropout)            (None, 64)                0         \n",
            "_________________________________________________________________\n",
            "dense_1 (Dense)              (None, 10)                650       \n",
            "=================================================================\n",
            "Total params: 201,162\n",
            "Trainable params: 201,162\n",
            "Non-trainable params: 0\n",
            "_________________________________________________________________\n"
          ],
          "name": "stdout"
        }
      ]
    },
    {
      "cell_type": "markdown",
      "metadata": {
        "id": "E2PbuaAGs_8z"
      },
      "source": [
        "# Model compile"
      ]
    },
    {
      "cell_type": "code",
      "metadata": {
        "id": "6mVtQUsTsxtz"
      },
      "source": [
        "model.compile(\n",
        "    loss = keras.losses.SparseCategoricalCrossentropy(from_logits=True),\n",
        "    optimizer = keras.optimizers.Adam(learning_rate=0.001),\n",
        "    metrics = ['accuracy']\n",
        ")"
      ],
      "execution_count": 12,
      "outputs": []
    },
    {
      "cell_type": "markdown",
      "metadata": {
        "id": "YIRYHSzftyKW"
      },
      "source": [
        "# Run Model"
      ]
    },
    {
      "cell_type": "code",
      "metadata": {
        "colab": {
          "base_uri": "https://localhost:8080/"
        },
        "id": "pL86QEVLtvHM",
        "outputId": "97aa45c5-ce31-46f8-9655-30dcc27730a2"
      },
      "source": [
        "model.fit(X_train,y_train,epochs=15,batch_size=128,verbose=2)"
      ],
      "execution_count": 13,
      "outputs": [
        {
          "output_type": "stream",
          "text": [
            "Epoch 1/15\n",
            "469/469 - 36s - loss: 0.2662 - accuracy: 0.9185\n",
            "Epoch 2/15\n",
            "469/469 - 3s - loss: 0.0712 - accuracy: 0.9793\n",
            "Epoch 3/15\n",
            "469/469 - 3s - loss: 0.0491 - accuracy: 0.9856\n",
            "Epoch 4/15\n",
            "469/469 - 3s - loss: 0.0366 - accuracy: 0.9891\n",
            "Epoch 5/15\n",
            "469/469 - 3s - loss: 0.0293 - accuracy: 0.9912\n",
            "Epoch 6/15\n",
            "469/469 - 3s - loss: 0.0252 - accuracy: 0.9924\n",
            "Epoch 7/15\n",
            "469/469 - 3s - loss: 0.0203 - accuracy: 0.9935\n",
            "Epoch 8/15\n",
            "469/469 - 3s - loss: 0.0195 - accuracy: 0.9937\n",
            "Epoch 9/15\n",
            "469/469 - 3s - loss: 0.0173 - accuracy: 0.9948\n",
            "Epoch 10/15\n",
            "469/469 - 3s - loss: 0.0153 - accuracy: 0.9950\n",
            "Epoch 11/15\n",
            "469/469 - 3s - loss: 0.0137 - accuracy: 0.9955\n",
            "Epoch 12/15\n",
            "469/469 - 3s - loss: 0.0119 - accuracy: 0.9959\n",
            "Epoch 13/15\n",
            "469/469 - 3s - loss: 0.0102 - accuracy: 0.9968\n",
            "Epoch 14/15\n",
            "469/469 - 3s - loss: 0.0102 - accuracy: 0.9971\n",
            "Epoch 15/15\n",
            "469/469 - 3s - loss: 0.0098 - accuracy: 0.9966\n"
          ],
          "name": "stdout"
        },
        {
          "output_type": "execute_result",
          "data": {
            "text/plain": [
              "<tensorflow.python.keras.callbacks.History at 0x7f0b5c73cf10>"
            ]
          },
          "metadata": {
            "tags": []
          },
          "execution_count": 13
        }
      ]
    },
    {
      "cell_type": "code",
      "metadata": {
        "id": "uzzj_b6Et-6z",
        "colab": {
          "base_uri": "https://localhost:8080/"
        },
        "outputId": "e99976fa-59af-4bb3-9137-741416305446"
      },
      "source": [
        "model.evaluate(X_test,y_test,batch_size=128,verbose=2)"
      ],
      "execution_count": 14,
      "outputs": [
        {
          "output_type": "stream",
          "text": [
            "79/79 - 0s - loss: 0.0277 - accuracy: 0.9930\n"
          ],
          "name": "stdout"
        },
        {
          "output_type": "execute_result",
          "data": {
            "text/plain": [
              "[0.027699200436472893, 0.9929999709129333]"
            ]
          },
          "metadata": {
            "tags": []
          },
          "execution_count": 14
        }
      ]
    },
    {
      "cell_type": "code",
      "metadata": {
        "id": "1ydQBwg_1Wat",
        "colab": {
          "base_uri": "https://localhost:8080/"
        },
        "outputId": "de2da286-1675-495d-a770-5fba646aec5c"
      },
      "source": [
        "model.evaluate(X_train,y_train,batch_size=128,verbose=2)"
      ],
      "execution_count": 15,
      "outputs": [
        {
          "output_type": "stream",
          "text": [
            "469/469 - 1s - loss: 0.0047 - accuracy: 0.9984\n"
          ],
          "name": "stdout"
        },
        {
          "output_type": "execute_result",
          "data": {
            "text/plain": [
              "[0.004694778937846422, 0.9983500242233276]"
            ]
          },
          "metadata": {
            "tags": []
          },
          "execution_count": 15
        }
      ]
    },
    {
      "cell_type": "code",
      "metadata": {
        "colab": {
          "base_uri": "https://localhost:8080/",
          "height": 450
        },
        "id": "tPPXQKYpBVhH",
        "outputId": "59d3cf7d-d15a-4af3-beee-c5c8343a0176"
      },
      "source": [
        "test_pred = model.predict(X_test)\n",
        "rs_test = np.argmax(test_pred,axis=1)\n",
        "indices1 = [i for i,v in enumerate(rs_test) if rs_test[i] != y_test[i]]\n",
        "wrong_data1 = pd.DataFrame({'Index':indices1,'Y Orig':y_test[indices1],'Y Pred':rs_test[indices1]})\n",
        "wrong_data1.set_index('Index',inplace=True)\n",
        "wrong_data1"
      ],
      "execution_count": 16,
      "outputs": [
        {
          "output_type": "execute_result",
          "data": {
            "text/html": [
              "<div>\n",
              "<style scoped>\n",
              "    .dataframe tbody tr th:only-of-type {\n",
              "        vertical-align: middle;\n",
              "    }\n",
              "\n",
              "    .dataframe tbody tr th {\n",
              "        vertical-align: top;\n",
              "    }\n",
              "\n",
              "    .dataframe thead th {\n",
              "        text-align: right;\n",
              "    }\n",
              "</style>\n",
              "<table border=\"1\" class=\"dataframe\">\n",
              "  <thead>\n",
              "    <tr style=\"text-align: right;\">\n",
              "      <th></th>\n",
              "      <th>Y Orig</th>\n",
              "      <th>Y Pred</th>\n",
              "    </tr>\n",
              "    <tr>\n",
              "      <th>Index</th>\n",
              "      <th></th>\n",
              "      <th></th>\n",
              "    </tr>\n",
              "  </thead>\n",
              "  <tbody>\n",
              "    <tr>\n",
              "      <th>115</th>\n",
              "      <td>4</td>\n",
              "      <td>9</td>\n",
              "    </tr>\n",
              "    <tr>\n",
              "      <th>247</th>\n",
              "      <td>4</td>\n",
              "      <td>6</td>\n",
              "    </tr>\n",
              "    <tr>\n",
              "      <th>321</th>\n",
              "      <td>2</td>\n",
              "      <td>7</td>\n",
              "    </tr>\n",
              "    <tr>\n",
              "      <th>340</th>\n",
              "      <td>5</td>\n",
              "      <td>3</td>\n",
              "    </tr>\n",
              "    <tr>\n",
              "      <th>445</th>\n",
              "      <td>6</td>\n",
              "      <td>0</td>\n",
              "    </tr>\n",
              "    <tr>\n",
              "      <th>...</th>\n",
              "      <td>...</td>\n",
              "      <td>...</td>\n",
              "    </tr>\n",
              "    <tr>\n",
              "      <th>9642</th>\n",
              "      <td>9</td>\n",
              "      <td>7</td>\n",
              "    </tr>\n",
              "    <tr>\n",
              "      <th>9664</th>\n",
              "      <td>2</td>\n",
              "      <td>7</td>\n",
              "    </tr>\n",
              "    <tr>\n",
              "      <th>9729</th>\n",
              "      <td>5</td>\n",
              "      <td>6</td>\n",
              "    </tr>\n",
              "    <tr>\n",
              "      <th>9755</th>\n",
              "      <td>8</td>\n",
              "      <td>5</td>\n",
              "    </tr>\n",
              "    <tr>\n",
              "      <th>9904</th>\n",
              "      <td>2</td>\n",
              "      <td>8</td>\n",
              "    </tr>\n",
              "  </tbody>\n",
              "</table>\n",
              "<p>70 rows × 2 columns</p>\n",
              "</div>"
            ],
            "text/plain": [
              "       Y Orig  Y Pred\n",
              "Index                \n",
              "115         4       9\n",
              "247         4       6\n",
              "321         2       7\n",
              "340         5       3\n",
              "445         6       0\n",
              "...       ...     ...\n",
              "9642        9       7\n",
              "9664        2       7\n",
              "9729        5       6\n",
              "9755        8       5\n",
              "9904        2       8\n",
              "\n",
              "[70 rows x 2 columns]"
            ]
          },
          "metadata": {
            "tags": []
          },
          "execution_count": 16
        }
      ]
    },
    {
      "cell_type": "markdown",
      "metadata": {
        "id": "QTEr_EsSjx1J"
      },
      "source": [
        "# Prediction With Other Dataset"
      ]
    },
    {
      "cell_type": "code",
      "metadata": {
        "id": "Z9TfwQNvj141"
      },
      "source": [
        "import pandas as pd\n",
        "data = pd.read_csv('/content/drive/MyDrive/Digit_Classification/digit-recognizer/train.csv')\n",
        "data_test = data.drop(labels = 'label',axis = 1).values\n",
        "data_label = data['label']"
      ],
      "execution_count": 17,
      "outputs": []
    },
    {
      "cell_type": "code",
      "metadata": {
        "colab": {
          "base_uri": "https://localhost:8080/"
        },
        "id": "JCQMisK5F8mK",
        "outputId": "574c13b1-b124-4e16-b632-a427dd893822"
      },
      "source": [
        "model.evaluate(data_test.reshape(-1,28,28,1),data_label)"
      ],
      "execution_count": 18,
      "outputs": [
        {
          "output_type": "stream",
          "text": [
            "1313/1313 [==============================] - 4s 3ms/step - loss: 1.2423 - accuracy: 0.9978\n"
          ],
          "name": "stdout"
        },
        {
          "output_type": "execute_result",
          "data": {
            "text/plain": [
              "[1.24233877658844, 0.9978333115577698]"
            ]
          },
          "metadata": {
            "tags": []
          },
          "execution_count": 18
        }
      ]
    },
    {
      "cell_type": "code",
      "metadata": {
        "id": "guJrgzLy_6rQ"
      },
      "source": [
        "pred=model.predict(data_test.reshape(-1,28,28,1))"
      ],
      "execution_count": 19,
      "outputs": []
    },
    {
      "cell_type": "code",
      "metadata": {
        "id": "wrlIaAhDAOao"
      },
      "source": [
        "#X_train[1].reshape(-1,28,28,1).shape"
      ],
      "execution_count": 20,
      "outputs": []
    },
    {
      "cell_type": "code",
      "metadata": {
        "id": "AIOlyAzSAzSs"
      },
      "source": [
        "rs = np.argmax(pred,axis=1)"
      ],
      "execution_count": 21,
      "outputs": []
    },
    {
      "cell_type": "code",
      "metadata": {
        "id": "uHwcKH_7WsWC"
      },
      "source": [
        "indices = [i for i,v in enumerate(rs) if rs[i] != data_label[i]]"
      ],
      "execution_count": 22,
      "outputs": []
    },
    {
      "cell_type": "code",
      "metadata": {
        "colab": {
          "base_uri": "https://localhost:8080/",
          "height": 419
        },
        "id": "aae-9-9AkjQO",
        "outputId": "90808a18-91ad-48c3-842c-2ba08e554a61"
      },
      "source": [
        "wrong_data = pd.DataFrame({'Y Orig':data_label[indices],'Y Pred':rs[indices]})\n",
        "wrong_data"
      ],
      "execution_count": 23,
      "outputs": [
        {
          "output_type": "execute_result",
          "data": {
            "text/html": [
              "<div>\n",
              "<style scoped>\n",
              "    .dataframe tbody tr th:only-of-type {\n",
              "        vertical-align: middle;\n",
              "    }\n",
              "\n",
              "    .dataframe tbody tr th {\n",
              "        vertical-align: top;\n",
              "    }\n",
              "\n",
              "    .dataframe thead th {\n",
              "        text-align: right;\n",
              "    }\n",
              "</style>\n",
              "<table border=\"1\" class=\"dataframe\">\n",
              "  <thead>\n",
              "    <tr style=\"text-align: right;\">\n",
              "      <th></th>\n",
              "      <th>Y Orig</th>\n",
              "      <th>Y Pred</th>\n",
              "    </tr>\n",
              "  </thead>\n",
              "  <tbody>\n",
              "    <tr>\n",
              "      <th>644</th>\n",
              "      <td>2</td>\n",
              "      <td>7</td>\n",
              "    </tr>\n",
              "    <tr>\n",
              "      <th>1031</th>\n",
              "      <td>9</td>\n",
              "      <td>7</td>\n",
              "    </tr>\n",
              "    <tr>\n",
              "      <th>1772</th>\n",
              "      <td>1</td>\n",
              "      <td>2</td>\n",
              "    </tr>\n",
              "    <tr>\n",
              "      <th>2137</th>\n",
              "      <td>7</td>\n",
              "      <td>9</td>\n",
              "    </tr>\n",
              "    <tr>\n",
              "      <th>2316</th>\n",
              "      <td>1</td>\n",
              "      <td>7</td>\n",
              "    </tr>\n",
              "    <tr>\n",
              "      <th>...</th>\n",
              "      <td>...</td>\n",
              "      <td>...</td>\n",
              "    </tr>\n",
              "    <tr>\n",
              "      <th>38499</th>\n",
              "      <td>9</td>\n",
              "      <td>7</td>\n",
              "    </tr>\n",
              "    <tr>\n",
              "      <th>38630</th>\n",
              "      <td>6</td>\n",
              "      <td>4</td>\n",
              "    </tr>\n",
              "    <tr>\n",
              "      <th>40238</th>\n",
              "      <td>8</td>\n",
              "      <td>2</td>\n",
              "    </tr>\n",
              "    <tr>\n",
              "      <th>41221</th>\n",
              "      <td>9</td>\n",
              "      <td>4</td>\n",
              "    </tr>\n",
              "    <tr>\n",
              "      <th>41691</th>\n",
              "      <td>4</td>\n",
              "      <td>1</td>\n",
              "    </tr>\n",
              "  </tbody>\n",
              "</table>\n",
              "<p>91 rows × 2 columns</p>\n",
              "</div>"
            ],
            "text/plain": [
              "       Y Orig  Y Pred\n",
              "644         2       7\n",
              "1031        9       7\n",
              "1772        1       2\n",
              "2137        7       9\n",
              "2316        1       7\n",
              "...       ...     ...\n",
              "38499       9       7\n",
              "38630       6       4\n",
              "40238       8       2\n",
              "41221       9       4\n",
              "41691       4       1\n",
              "\n",
              "[91 rows x 2 columns]"
            ]
          },
          "metadata": {
            "tags": []
          },
          "execution_count": 23
        }
      ]
    }
  ]
}